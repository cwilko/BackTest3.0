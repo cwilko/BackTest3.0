{
 "cells": [
  {
   "cell_type": "code",
   "execution_count": 3,
   "metadata": {
    "collapsed": false
   },
   "outputs": [],
   "source": [
    "! echo '{ \\\n",
    "  \"auth_url\": \"https://identity.open.softlayer.com\", \\\n",
    "  \"project\": \"object_storage_24201600_a4b6_4f0b_88ba_1ef353849c30\", \\\n",
    "  \"projectId\": \"aad3b4d29103422b8ab6db903e70b459\", \\\n",
    "  \"region\": \"dallas\", \\\n",
    "  \"userId\": \"5df509b435c649b582d3515913852f66\", \\\n",
    "  \"username\": \"member_c7f7ede4c5e242baa1400d07d90e56080b8fca79\", \\\n",
    "  \"password\": \"Z~]5=~1b-i/Dw)gm\", \\\n",
    "  \"domainId\": \"a8bf936b6eb64dfa81a5923ffda62a8b\", \\\n",
    "  \"domainName\": \"1191289\", \\\n",
    "  \"role\": \"member\" \\\n",
    "}' > object_storage_cred.json"
   ]
  },
  {
   "cell_type": "code",
   "execution_count": 6,
   "metadata": {
    "collapsed": true
   },
   "outputs": [],
   "source": [
    "! echo '{ \\\n",
    "  \"apikey\": \"1ub2AqMuoQnf2EdrJ8f6MTK8tTrp7a2TarUUQWqJdKsN\", \\\n",
    "  \"auth_endpoint\": \"https://iam.bluemix.net/oidc/token\", \\\n",
    "  \"service_endpoint\": \"https://s3-api.us-geo.objectstorage.softlayer.net\", \\\n",
    "  \"resource_instance_id\": \"crn:v1:bluemix:public:cloud-object-storage:global:a/b63fccce764fd4b7f65ca2a28403b89d:1109b198-95b8-427d-9661-b38c11cfeb8e::\" \\\n",
    "}' > ibm_cos_cred.json"
   ]
  },
  {
   "cell_type": "code",
   "execution_count": 4,
   "metadata": {
    "collapsed": true
   },
   "outputs": [],
   "source": [
    "! echo '{ \\\n",
    "    \"endpoint\": \"https://api.eu.apiconnect.ibmcloud.com\", \\\n",
    "    \"clientId\": \"a99caf30-468c-43ba-bb54-e710f462b76b\", \\\n",
    "    \"clientSecret\": \"X3dU8bD7sN1pD0vJ3rL0sE6cM1tL8bK3mI4tD4jC1lW2aS0gL7\" \\\n",
    "}' > MIOapi_cred.json"
   ]
  },
  {
   "cell_type": "code",
   "execution_count": 5,
   "metadata": {
    "collapsed": true
   },
   "outputs": [],
   "source": [
    "! echo '{ \\\n",
    "    \"logmet_host\":\"metrics.ng.bluemix.net\", \\\n",
    "    \"logmet_port\": \"9095\", \\\n",
    "    \"space_id\":\"9aaaf4bb-0b1a-465c-876a-c4b9ad2fa578\", \\\n",
    "    \"token\":\"VVlbfFSwgx369LWbexRh10_8XDowBLDvq9d8yx1s_PuX\" \\\n",
    "}' > metrics_cred.json"
   ]
  },
  {
   "cell_type": "code",
   "execution_count": 6,
   "metadata": {
    "collapsed": true
   },
   "outputs": [],
   "source": [
    "! echo '{ \\\n",
    "    \"logmet_host\":\"ingest.logging.ng.bluemix.net\", \\\n",
    "    \"logmet_port\": \"9091\", \\\n",
    "    \"space_id\":\"9aaaf4bb-0b1a-465c-876a-c4b9ad2fa578\", \\\n",
    "    \"token\":\"6bNXaWQyR_Sv\" \\\n",
    "}' > logging_cred.json"
   ]
  },
  {
   "cell_type": "code",
   "execution_count": 2,
   "metadata": {
    "collapsed": false
   },
   "outputs": [],
   "source": [
    "! echo '{ \\\n",
    "    \"endpoint\":\"https://openwhisk.eu-gb.bluemix.net/api/v1/namespaces/MIOL_prod/actions/\", \\\n",
    "    \"api_key\": \"d8926bde-f6e2-4a52-b8ce-7482d97a9075:mvSW5umFWMF40dB0X4sTVDkx0vRtyApBh0NXTPo6hm1QoL4NVN8J9xj1LfkI2g5t\" \\\n",
    "}' > functions_cred.json"
   ]
  },
  {
   "cell_type": "code",
   "execution_count": 3,
   "metadata": {
    "collapsed": false
   },
   "outputs": [
    {
     "name": "stdout",
     "output_type": "stream",
     "text": [
      "functions_cred.json  metrics_cred.json\tobject_storage_cred.json\r\n",
      "logging_cred.json    MIOapi_cred.json\tSetup_Credentials.ipynb\r\n"
     ]
    }
   ],
   "source": [
    "!ls"
   ]
  },
  {
   "cell_type": "code",
   "execution_count": 16,
   "metadata": {
    "collapsed": true
   },
   "outputs": [],
   "source": []
  },
  {
   "cell_type": "code",
   "execution_count": null,
   "metadata": {
    "collapsed": true
   },
   "outputs": [],
   "source": []
  }
 ],
 "metadata": {
  "kernelspec": {
   "display_name": "Python 2",
   "language": "python",
   "name": "python2"
  },
  "language_info": {
   "codemirror_mode": {
    "name": "ipython",
    "version": 2
   },
   "file_extension": ".py",
   "mimetype": "text/x-python",
   "name": "python",
   "nbconvert_exporter": "python",
   "pygments_lexer": "ipython2",
   "version": "2.7.12"
  }
 },
 "nbformat": 4,
 "nbformat_minor": 1
}

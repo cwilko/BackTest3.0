{
 "cells": [
  {
   "cell_type": "code",
   "execution_count": 7,
   "metadata": {
    "collapsed": false
   },
   "outputs": [],
   "source": [
    "import pandas as pd\n",
    "import numpy as np\n",
    "\n",
    "import matplotlib\n",
    "import matplotlib.pyplot as plt\n",
    "\n",
    "%matplotlib inline\n",
    "matplotlib.rcParams['figure.figsize'] = (12.0, 6.0)\n",
    "\n",
    "# STRATEGY SET UP\n",
    "txCost = 0\n",
    "ts = pd.read_csv('data/WallSt-hourly-all.txt', index_col=0, parse_dates=[[0, 1]], dayfirst=True )\n",
    "ts = ts[\"2016-07-06\":]\n",
    "\n",
    "import pytz\n",
    "ts.index = ts.index.tz_localize(pytz.timezone('UTC'), ambiguous='NaT').tz_convert('EST').tz_localize(None)\n",
    "\n",
    "# Resample into hourly data\n",
    "#order = ts.columns\n",
    "#ts = ts.resample('5min').agg({'Open': 'first', 'High': 'max', 'Low': 'min','Close': 'last'})[order]\n",
    "\n",
    "\n",
    "# Remove hours we are not interested in\n",
    "#ts[(ts.index.hour > 19) | (ts.index.hour < 12)] = np.nan\n",
    "\n",
    "# Resample into Business Days\n",
    "#ts = ts.resample('5min').agg({'Open': 'first', 'High': 'max', 'Low': 'min','Close': 'last'})[order]\n",
    "#ts"
   ]
  },
  {
   "cell_type": "code",
   "execution_count": 24,
   "metadata": {
    "collapsed": false
   },
   "outputs": [
    {
     "name": "stdout",
     "output_type": "stream",
     "text": [
      "fintools  mypkgs.pth  tradeframework\n",
      "Processing /home/cwilkin/Cloud/Dropbox/Python/mypkgs/tradeframework\n",
      "Installing collected packages: tradeframework\n",
      "  Found existing installation: tradeframework 1.0.0\n",
      "    Uninstalling tradeframework-1.0.0:\n",
      "      Successfully uninstalled tradeframework-1.0.0\n",
      "  Running setup.py install for tradeframework ... \u001b[?25l-\b \b\\\b \b|\b \bdone\n",
      "\u001b[?25hSuccessfully installed tradeframework-1.0.0\n"
     ]
    }
   ],
   "source": [
    "!ls ../..\n",
    "!pip install --upgrade ../../tradeframework\n",
    "\n",
    "#import tradeframework\n",
    "from tradeframework.api import Derivative, Portfolio, Optimizer, Model, TradeEnvironment, TradeEngine, AssetInfo\n",
    "from tradeframework.environments import SandboxEnvironment, SandboxContext, ZiplineEnvironment\n",
    "from tradeframework.models import PreOpenMomentum"
   ]
  },
  {
   "cell_type": "code",
   "execution_count": 44,
   "metadata": {
    "collapsed": false,
    "scrolled": false
   },
   "outputs": [],
   "source": [
    "env = SandboxEnvironment(\"TradeFair\")\n",
    "context = {}\n",
    "\n",
    "#opt = env.createOptimizer(\"KellyOptimizer\", \"KellyOpt\", opts={\"window\":None})\n",
    "opt = env.createOptimizer(\"EqualWeightsOptimizer\", \"EqualWeights\")\n",
    "p = env.createPortfolio(\"MyPortfolio\", optimizer=opt)\n",
    "\n",
    "#p.addModel(env.createModel( \"PreOpenMomentum\", \"D1-PreOpenMomentum\" ))\n",
    "p.addModel(env.createModel( \"BuyAndHold\", \"D2-BuyAndHold\" ))\n",
    "p.addModel(env.createModel( \"BuyAndHold\", \"D3-BuyAndHold\" ))\n",
    "threshold = 0\n",
    "#p.addModel(env.createModel( \"MarketInsightsModel\", \"D3-FinalHourML1\", args=('cred/MIOapi_cred.json', 'DOW', '0aaf64aa-95bc-476b-9ac0-28891e40892a', threshold)))\n",
    "#p.addModel(env.createModel( \"MarketInsightsModel\", \"D3-FinalHourML2\", args=('cred/MIOapi_cred.json', 'DOW', 'a80a294f-12f8-4b27-8eac-9aad9a53ec8b', threshold)))\n",
    "#p.addModel(env.createModel( \"MarketInsightsModel\", \"D3-FinalHourML3\", args=('cred/MIOapi_cred.json', 'DOW', '28da8212-32f3-4680-bacd-0cd1c51bfe02', threshold)))\n",
    "#p.addModel(env.createModel( \"MarketInsightsModel\", \"D3-FinalHourML4\", args=('cred/MIOapi_cred.json', 'DOW', '53ca0624-21e4-48d4-b2b8-cee5b381ff2b', threshold)))\n",
    "#p.addModel(env.createModel( \"MarketInsightsModel\", \"D3-FinalHourML5\", args=('cred/MIOapi_cred.json', 'DOW', '6682f56b-a2e4-4e6d-92c5-9c11913f8b35', threshold)))\n",
    "#p.addModel(env.createModel( \"MarketInsightsModel\", \"D3-FinalHourML6\", args=('cred/MIOapi_cred.json', 'DOW', 'fdbe5895-0327-49d9-83e9-2246dbe1858b', threshold)))\n",
    "\n",
    "# Feed data into the portfolio\n",
    "\n",
    "#for index in range(0, len(ts)):\n",
    "#env.handleData(0, ts[:index+1])\n",
    "dInfo = env.handleData(context, AssetInfo(\"DOW\", ts))\n",
    "\n",
    "#env.placeOrders(context, allocations, ts)\n"
   ]
  },
  {
   "cell_type": "code",
   "execution_count": 56,
   "metadata": {
    "collapsed": false
   },
   "outputs": [
    {
     "data": {
      "text/html": [
       "<div>\n",
       "<table border=\"1\" class=\"dataframe\">\n",
       "  <thead>\n",
       "    <tr style=\"text-align: right;\">\n",
       "      <th></th>\n",
       "      <th>Open</th>\n",
       "      <th>Close</th>\n",
       "    </tr>\n",
       "    <tr>\n",
       "      <th>Date_Time</th>\n",
       "      <th></th>\n",
       "      <th></th>\n",
       "    </tr>\n",
       "  </thead>\n",
       "  <tbody>\n",
       "    <tr>\n",
       "      <th>2016-07-05 19:00:00</th>\n",
       "      <td>-0.0007003978</td>\n",
       "      <td>-0.0000560711</td>\n",
       "    </tr>\n",
       "    <tr>\n",
       "      <th>2016-07-05 20:00:00</th>\n",
       "      <td>-0.0008691508</td>\n",
       "      <td>-0.0000280615</td>\n",
       "    </tr>\n",
       "    <tr>\n",
       "      <th>2016-07-05 21:00:00</th>\n",
       "      <td>-0.0026378560</td>\n",
       "      <td>0.0000562730</td>\n",
       "    </tr>\n",
       "    <tr>\n",
       "      <th>2016-07-05 22:00:00</th>\n",
       "      <td>-0.0004782939</td>\n",
       "      <td>-0.0000281484</td>\n",
       "    </tr>\n",
       "    <tr>\n",
       "      <th>2016-07-05 23:00:00</th>\n",
       "      <td>0.0007600281</td>\n",
       "      <td>0.0000281278</td>\n",
       "    </tr>\n",
       "    <tr>\n",
       "      <th>2016-07-06 00:00:00</th>\n",
       "      <td>0.0001125081</td>\n",
       "      <td>-0.0000281239</td>\n",
       "    </tr>\n",
       "    <tr>\n",
       "      <th>2016-07-06 01:00:00</th>\n",
       "      <td>0.0022780965</td>\n",
       "      <td>-0.0000561214</td>\n",
       "    </tr>\n",
       "    <tr>\n",
       "      <th>2016-07-06 02:00:00</th>\n",
       "      <td>-0.0016556756</td>\n",
       "      <td>0.0000281088</td>\n",
       "    </tr>\n",
       "    <tr>\n",
       "      <th>2016-07-06 03:00:00</th>\n",
       "      <td>0.0010399978</td>\n",
       "      <td>0.0000280788</td>\n",
       "    </tr>\n",
       "    <tr>\n",
       "      <th>2016-07-06 04:00:00</th>\n",
       "      <td>-0.0015162151</td>\n",
       "      <td>0.0000843621</td>\n",
       "    </tr>\n",
       "  </tbody>\n",
       "</table>\n",
       "</div>"
      ],
      "text/plain": [
       "                             Open         Close\n",
       "Date_Time                                      \n",
       "2016-07-05 19:00:00 -0.0007003978 -0.0000560711\n",
       "2016-07-05 20:00:00 -0.0008691508 -0.0000280615\n",
       "2016-07-05 21:00:00 -0.0026378560  0.0000562730\n",
       "2016-07-05 22:00:00 -0.0004782939 -0.0000281484\n",
       "2016-07-05 23:00:00  0.0007600281  0.0000281278\n",
       "2016-07-06 00:00:00  0.0001125081 -0.0000281239\n",
       "2016-07-06 01:00:00  0.0022780965 -0.0000561214\n",
       "2016-07-06 02:00:00 -0.0016556756  0.0000281088\n",
       "2016-07-06 03:00:00  0.0010399978  0.0000280788\n",
       "2016-07-06 04:00:00 -0.0015162151  0.0000843621"
      ]
     },
     "execution_count": 56,
     "metadata": {},
     "output_type": "execute_result"
    }
   ],
   "source": [
    "context[\"TradeFair_Portfolio\"][\"dInfo\"].returns[:10]"
   ]
  },
  {
   "cell_type": "code",
   "execution_count": 47,
   "metadata": {
    "collapsed": false,
    "scrolled": false
   },
   "outputs": [
    {
     "data": {
      "image/png": "[encoded data removed]",
      "text/plain": [
       "<matplotlib.figure.Figure at 0x7fcd5cbd2f10>"
      ]
     },
     "metadata": {},
     "output_type": "display_data"
    }
   ],
   "source": [
    "from tradeframework.api import TradeEngine\n",
    "ret = TradeEngine.getPeriodReturns(dInfo.returns) + 1\n",
    "#ret = ret.prod(axis=1)\n",
    "\n",
    "pnl = np.cumprod(ret.resample('B').agg({'Sandbox Engine': 'prod'}))\n",
    "\n",
    "plt.plot(pnl)\n",
    "plt.show() \n",
    "\n",
    "#np.exp(np.log(ret).resample('B').agg({'Sandbox Engine': 'sum'}))-1"
   ]
  },
  {
   "cell_type": "code",
   "execution_count": 42,
   "metadata": {
    "collapsed": false
   },
   "outputs": [
    {
     "data": {
      "image/png": "[encoded data removed]",
      "text/plain": [
       "<matplotlib.figure.Figure at 0x7fcd5c5044d0>"
      ]
     },
     "metadata": {},
     "output_type": "display_data"
    }
   ],
   "source": [
    "a = np.diff(ts[\"Open\"].values) / ts[\"Open\"][:-1]\n",
    "a = a + 1\n",
    "pnl = np.cumprod(a.resample('B').agg({'Sandbox Engine': 'prod'}))\n",
    "plt.plot(pnl)\n",
    "plt.show() \n",
    "\n"
   ]
  },
  {
   "cell_type": "code",
   "execution_count": 43,
   "metadata": {
    "collapsed": false
   },
   "outputs": [
    {
     "data": {
      "text/html": [
       "<div>\n",
       "<table border=\"1\" class=\"dataframe\">\n",
       "  <thead>\n",
       "    <tr style=\"text-align: right;\">\n",
       "      <th></th>\n",
       "      <th>Sandbox Engine</th>\n",
       "    </tr>\n",
       "    <tr>\n",
       "      <th>Date_Time</th>\n",
       "      <th></th>\n",
       "    </tr>\n",
       "  </thead>\n",
       "  <tbody>\n",
       "    <tr>\n",
       "      <th>2016-07-05</th>\n",
       "      <td>0.9960497563</td>\n",
       "    </tr>\n",
       "    <tr>\n",
       "      <th>2016-07-06</th>\n",
       "      <td>1.0032778618</td>\n",
       "    </tr>\n",
       "    <tr>\n",
       "      <th>2016-07-07</th>\n",
       "      <td>1.0020731776</td>\n",
       "    </tr>\n",
       "    <tr>\n",
       "      <th>2016-07-08</th>\n",
       "      <td>1.0199753460</td>\n",
       "    </tr>\n",
       "    <tr>\n",
       "      <th>2016-07-11</th>\n",
       "      <td>1.0222166190</td>\n",
       "    </tr>\n",
       "    <tr>\n",
       "      <th>2016-07-12</th>\n",
       "      <td>1.0270353561</td>\n",
       "    </tr>\n",
       "    <tr>\n",
       "      <th>2016-07-13</th>\n",
       "      <td>1.0296968678</td>\n",
       "    </tr>\n",
       "    <tr>\n",
       "      <th>2016-07-14</th>\n",
       "      <td>1.0372331484</td>\n",
       "    </tr>\n",
       "    <tr>\n",
       "      <th>2016-07-15</th>\n",
       "      <td>1.0375693394</td>\n",
       "    </tr>\n",
       "    <tr>\n",
       "      <th>2016-07-18</th>\n",
       "      <td>1.0376253712</td>\n",
       "    </tr>\n",
       "  </tbody>\n",
       "</table>\n",
       "</div>"
      ],
      "text/plain": [
       "            Sandbox Engine\n",
       "Date_Time                 \n",
       "2016-07-05    0.9960497563\n",
       "2016-07-06    1.0032778618\n",
       "2016-07-07    1.0020731776\n",
       "2016-07-08    1.0199753460\n",
       "2016-07-11    1.0222166190\n",
       "2016-07-12    1.0270353561\n",
       "2016-07-13    1.0296968678\n",
       "2016-07-14    1.0372331484\n",
       "2016-07-15    1.0375693394\n",
       "2016-07-18    1.0376253712"
      ]
     },
     "execution_count": 43,
     "metadata": {},
     "output_type": "execute_result"
    }
   ],
   "source": [
    "pnl[:10]"
   ]
  }
 ],
 "metadata": {
  "kernelspec": {
   "display_name": "Python 2",
   "language": "python",
   "name": "python2"
  },
  "language_info": {
   "codemirror_mode": {
    "name": "ipython",
    "version": 2
   },
   "file_extension": ".py",
   "mimetype": "text/x-python",
   "name": "python",
   "nbconvert_exporter": "python",
   "pygments_lexer": "ipython2",
   "version": "2.7.12"
  }
 },
 "nbformat": 4,
 "nbformat_minor": 0
}

{
 "cells": [
  {
   "cell_type": "code",
   "execution_count": 1,
   "metadata": {
    "collapsed": false
   },
   "outputs": [],
   "source": [
    "import pandas as pd\n",
    "import numpy as np\n",
    "\n",
    "import matplotlib\n",
    "import matplotlib.pyplot as plt\n",
    "\n",
    "%matplotlib inline\n",
    "matplotlib.rcParams['figure.figsize'] = (12.0, 6.0)\n",
    "\n",
    "# STRATEGY SET UP\n",
    "txCost = 0\n",
    "ts = pd.read_csv('data/WallSt-hourly-all.txt', index_col=0, parse_dates=[[0, 1]], dayfirst=True )\n",
    "ts = ts[\"2016-07-06\":]\n",
    "\n",
    "import pytz\n",
    "ts.index = ts.index.tz_localize(pytz.timezone('UTC'), ambiguous='NaT').tz_convert('EST').tz_localize(None)\n",
    "\n",
    "# Resample into hourly data\n",
    "#order = ts.columns\n",
    "#ts = ts.resample('5min').agg({'Open': 'first', 'High': 'max', 'Low': 'min','Close': 'last'})[order]\n",
    "\n",
    "\n",
    "# Remove hours we are not interested in\n",
    "#ts[(ts.index.hour > 19) | (ts.index.hour < 12)] = np.nan\n",
    "\n",
    "# Resample into Business Days\n",
    "#ts = ts.resample('5min').agg({'Open': 'first', 'High': 'max', 'Low': 'min','Close': 'last'})[order]\n",
    "#ts"
   ]
  },
  {
   "cell_type": "code",
   "execution_count": 2,
   "metadata": {
    "collapsed": false
   },
   "outputs": [
    {
     "data": {
      "text/plain": [
       "array([[1, 2],\n",
       "       [1, 2],\n",
       "       [1, 2]])"
      ]
     },
     "execution_count": 2,
     "metadata": {},
     "output_type": "execute_result"
    }
   ],
   "source": [
    "R = np.array([[1,0,3],[3,0,0],[4,1,2],[3,3,3]]).T\n",
    "F = np.array([1,2,3])\n",
    "iterables = [np.array([\"one\", \"two\"]), np.array([\"this\",\"that\"])]\n",
    "C = pd.MultiIndex.from_product(iterables)\n",
    "R = pd.DataFrame(R, columns=C)\n",
    "np.array([[1,1,1],[2,2,2]]).T\n",
    "#R[\"three\"] = np.array([[1,1,1],[2,2,2]]).T\n",
    "\n"
   ]
  },
  {
   "cell_type": "code",
   "execution_count": 41,
   "metadata": {
    "collapsed": false
   },
   "outputs": [
    {
     "name": "stdout",
     "output_type": "stream",
     "text": [
      "fintools  mypkgs.pth  tradeframework\n",
      "Processing /home/cwilkin/Cloud/Dropbox/Python/mypkgs/tradeframework\n",
      "Installing collected packages: tradeframework\n",
      "  Found existing installation: tradeframework 1.0.0\n",
      "    Uninstalling tradeframework-1.0.0:\n",
      "      Successfully uninstalled tradeframework-1.0.0\n",
      "  Running setup.py install for tradeframework ... \u001b[?25l-\b \b\\\b \b|\b \bdone\n",
      "\u001b[?25hSuccessfully installed tradeframework-1.0.0\n"
     ]
    }
   ],
   "source": [
    "!ls ../..\n",
    "!pip install --upgrade ../../tradeframework\n",
    "\n",
    "#import tradeframework\n",
    "from tradeframework.api import Derivative, Portfolio, Optimizer, Model, TradeEnvironment, TradeEngine, AssetInfo\n",
    "from tradeframework.environments import SandboxEnvironment, SandboxContext, ZiplineEnvironment\n",
    "from tradeframework.models import PreOpenMomentum"
   ]
  },
  {
   "cell_type": "code",
   "execution_count": 42,
   "metadata": {
    "collapsed": false,
    "scrolled": false
   },
   "outputs": [],
   "source": [
    "env = SandboxEnvironment(\"TradeFair\")\n",
    "context = {}\n",
    "\n",
    "#opt = env.createOptimizer(\"KellyOptimizer\", \"KellyOpt\", opts={\"window\":None})\n",
    "opt = env.createOptimizer(\"EqualWeightsOptimizer\", \"EqualWeights\")\n",
    "p = env.createPortfolio(\"MyPortfolio\", optimizer=opt)\n",
    "\n",
    "#p.addModel(env.createModel( \"PreOpenMomentum\", \"D1-PreOpenMomentum\" ))\n",
    "p.addModel(env.createModel( \"BuyAndHold\", \"D2-BuyAndHold\" ))\n",
    "threshold = 0\n",
    "#p.addModel(env.createModel( \"MarketInsightsModel\", \"D3-FinalHourML1\", args=('cred/MIOapi_cred.json', 'DOW', '0aaf64aa-95bc-476b-9ac0-28891e40892a', threshold)))\n",
    "#p.addModel(env.createModel( \"MarketInsightsModel\", \"D3-FinalHourML2\", args=('cred/MIOapi_cred.json', 'DOW', 'a80a294f-12f8-4b27-8eac-9aad9a53ec8b', threshold)))\n",
    "#p.addModel(env.createModel( \"MarketInsightsModel\", \"D3-FinalHourML3\", args=('cred/MIOapi_cred.json', 'DOW', '28da8212-32f3-4680-bacd-0cd1c51bfe02', threshold)))\n",
    "#p.addModel(env.createModel( \"MarketInsightsModel\", \"D3-FinalHourML4\", args=('cred/MIOapi_cred.json', 'DOW', '53ca0624-21e4-48d4-b2b8-cee5b381ff2b', threshold)))\n",
    "#p.addModel(env.createModel( \"MarketInsightsModel\", \"D3-FinalHourML5\", args=('cred/MIOapi_cred.json', 'DOW', '6682f56b-a2e4-4e6d-92c5-9c11913f8b35', threshold)))\n",
    "#p.addModel(env.createModel( \"MarketInsightsModel\", \"D3-FinalHourML6\", args=('cred/MIOapi_cred.json', 'DOW', 'fdbe5895-0327-49d9-83e9-2246dbe1858b', threshold)))\n",
    "\n",
    "# Feed data into the portfolio\n",
    "\n",
    "#for index in range(0, len(ts)):\n",
    "#env.handleData(0, ts[:index+1])\n",
    "dInfo = env.handleData(context, AssetInfo(\"DOW\", ts))\n",
    "\n",
    "#env.placeOrders(context, allocations, ts)\n"
   ]
  },
  {
   "cell_type": "code",
   "execution_count": 43,
   "metadata": {
    "collapsed": false
   },
   "outputs": [
    {
     "data": {
      "text/html": [
       "<div>\n",
       "<table border=\"1\" class=\"dataframe\">\n",
       "  <thead>\n",
       "    <tr style=\"text-align: right;\">\n",
       "      <th></th>\n",
       "      <th>bar</th>\n",
       "      <th>gap</th>\n",
       "    </tr>\n",
       "    <tr>\n",
       "      <th>Date_Time</th>\n",
       "      <th></th>\n",
       "      <th></th>\n",
       "    </tr>\n",
       "  </thead>\n",
       "  <tbody>\n",
       "    <tr>\n",
       "      <th>2016-07-05 19:00:00</th>\n",
       "      <td>0.0000560318</td>\n",
       "      <td>0.0000560318</td>\n",
       "    </tr>\n",
       "    <tr>\n",
       "      <th>2016-07-05 20:00:00</th>\n",
       "      <td>0.0000560318</td>\n",
       "      <td>0.0000560318</td>\n",
       "    </tr>\n",
       "    <tr>\n",
       "      <th>2016-07-05 21:00:00</th>\n",
       "      <td>0.0000560318</td>\n",
       "      <td>0.0000560318</td>\n",
       "    </tr>\n",
       "    <tr>\n",
       "      <th>2016-07-05 22:00:00</th>\n",
       "      <td>0.0000560318</td>\n",
       "      <td>0.0000560318</td>\n",
       "    </tr>\n",
       "    <tr>\n",
       "      <th>2016-07-05 23:00:00</th>\n",
       "      <td>0.0000560318</td>\n",
       "      <td>0.0000560318</td>\n",
       "    </tr>\n",
       "    <tr>\n",
       "      <th>2016-07-06 00:00:00</th>\n",
       "      <td>0.0000560318</td>\n",
       "      <td>0.0000560318</td>\n",
       "    </tr>\n",
       "    <tr>\n",
       "      <th>2016-07-06 01:00:00</th>\n",
       "      <td>0.0000560318</td>\n",
       "      <td>0.0000560318</td>\n",
       "    </tr>\n",
       "    <tr>\n",
       "      <th>2016-07-06 02:00:00</th>\n",
       "      <td>0.0000560318</td>\n",
       "      <td>0.0000560318</td>\n",
       "    </tr>\n",
       "    <tr>\n",
       "      <th>2016-07-06 03:00:00</th>\n",
       "      <td>0.0000560318</td>\n",
       "      <td>0.0000560318</td>\n",
       "    </tr>\n",
       "    <tr>\n",
       "      <th>2016-07-06 04:00:00</th>\n",
       "      <td>0.0000560318</td>\n",
       "      <td>0.0000560318</td>\n",
       "    </tr>\n",
       "  </tbody>\n",
       "</table>\n",
       "</div>"
      ],
      "text/plain": [
       "                              bar           gap\n",
       "Date_Time                                      \n",
       "2016-07-05 19:00:00  0.0000560318  0.0000560318\n",
       "2016-07-05 20:00:00  0.0000560318  0.0000560318\n",
       "2016-07-05 21:00:00  0.0000560318  0.0000560318\n",
       "2016-07-05 22:00:00  0.0000560318  0.0000560318\n",
       "2016-07-05 23:00:00  0.0000560318  0.0000560318\n",
       "2016-07-06 00:00:00  0.0000560318  0.0000560318\n",
       "2016-07-06 01:00:00  0.0000560318  0.0000560318\n",
       "2016-07-06 02:00:00  0.0000560318  0.0000560318\n",
       "2016-07-06 03:00:00  0.0000560318  0.0000560318\n",
       "2016-07-06 04:00:00  0.0000560318  0.0000560318"
      ]
     },
     "execution_count": 43,
     "metadata": {},
     "output_type": "execute_result"
    }
   ],
   "source": [
    "np.prod(context[\"TradeFair_Portfolio\"][\"MyPortfolio\"][\"D2-BuyAndHold\"][\"debug\"].returns+1, axis=1)[:10]-1\n",
    "context[\"TradeFair_Portfolio\"][\"MyPortfolio\"][\"D2-BuyAndHold\"][\"debug\"].allocations[:10]"
   ]
  },
  {
   "cell_type": "code",
   "execution_count": 44,
   "metadata": {
    "collapsed": false
   },
   "outputs": [
    {
     "data": {
      "text/html": [
       "<div>\n",
       "<table border=\"1\" class=\"dataframe\">\n",
       "  <thead>\n",
       "    <tr style=\"text-align: right;\">\n",
       "      <th></th>\n",
       "      <th>bar</th>\n",
       "      <th>gap</th>\n",
       "    </tr>\n",
       "    <tr>\n",
       "      <th>Date_Time</th>\n",
       "      <th></th>\n",
       "      <th></th>\n",
       "    </tr>\n",
       "  </thead>\n",
       "  <tbody>\n",
       "    <tr>\n",
       "      <th>2016-07-05 19:00:00</th>\n",
       "      <td>0.0000560318</td>\n",
       "      <td>0.0000560318</td>\n",
       "    </tr>\n",
       "    <tr>\n",
       "      <th>2016-07-05 20:00:00</th>\n",
       "      <td>0.0000560318</td>\n",
       "      <td>0.0000560318</td>\n",
       "    </tr>\n",
       "    <tr>\n",
       "      <th>2016-07-05 21:00:00</th>\n",
       "      <td>0.0000560318</td>\n",
       "      <td>0.0000560318</td>\n",
       "    </tr>\n",
       "    <tr>\n",
       "      <th>2016-07-05 22:00:00</th>\n",
       "      <td>0.0000560318</td>\n",
       "      <td>0.0000560318</td>\n",
       "    </tr>\n",
       "    <tr>\n",
       "      <th>2016-07-05 23:00:00</th>\n",
       "      <td>0.0000560318</td>\n",
       "      <td>0.0000560318</td>\n",
       "    </tr>\n",
       "    <tr>\n",
       "      <th>2016-07-06 00:00:00</th>\n",
       "      <td>0.0000560318</td>\n",
       "      <td>0.0000560318</td>\n",
       "    </tr>\n",
       "    <tr>\n",
       "      <th>2016-07-06 01:00:00</th>\n",
       "      <td>0.0000560318</td>\n",
       "      <td>0.0000560318</td>\n",
       "    </tr>\n",
       "    <tr>\n",
       "      <th>2016-07-06 02:00:00</th>\n",
       "      <td>0.0000560318</td>\n",
       "      <td>0.0000560318</td>\n",
       "    </tr>\n",
       "    <tr>\n",
       "      <th>2016-07-06 03:00:00</th>\n",
       "      <td>0.0000560318</td>\n",
       "      <td>0.0000560318</td>\n",
       "    </tr>\n",
       "    <tr>\n",
       "      <th>2016-07-06 04:00:00</th>\n",
       "      <td>0.0000560318</td>\n",
       "      <td>0.0000560318</td>\n",
       "    </tr>\n",
       "  </tbody>\n",
       "</table>\n",
       "</div>"
      ],
      "text/plain": [
       "                              bar           gap\n",
       "Date_Time                                      \n",
       "2016-07-05 19:00:00  0.0000560318  0.0000560318\n",
       "2016-07-05 20:00:00  0.0000560318  0.0000560318\n",
       "2016-07-05 21:00:00  0.0000560318  0.0000560318\n",
       "2016-07-05 22:00:00  0.0000560318  0.0000560318\n",
       "2016-07-05 23:00:00  0.0000560318  0.0000560318\n",
       "2016-07-06 00:00:00  0.0000560318  0.0000560318\n",
       "2016-07-06 01:00:00  0.0000560318  0.0000560318\n",
       "2016-07-06 02:00:00  0.0000560318  0.0000560318\n",
       "2016-07-06 03:00:00  0.0000560318  0.0000560318\n",
       "2016-07-06 04:00:00  0.0000560318  0.0000560318"
      ]
     },
     "execution_count": 44,
     "metadata": {},
     "output_type": "execute_result"
    }
   ],
   "source": [
    "dInfo.allocations[:10]"
   ]
  },
  {
   "cell_type": "code",
   "execution_count": 45,
   "metadata": {
    "collapsed": false
   },
   "outputs": [
    {
     "data": {
      "text/plain": [
       "Date_Time\n",
       "2016-07-05 19:00:00   -0.0007564297\n",
       "2016-07-05 20:00:00   -0.0008971879\n",
       "2016-07-05 21:00:00   -0.0025817314\n",
       "2016-07-05 22:00:00   -0.0005064288\n",
       "2016-07-05 23:00:00    0.0007881773\n",
       "2016-07-06 00:00:00    0.0000843811\n",
       "2016-07-06 01:00:00    0.0022218472\n",
       "2016-07-06 02:00:00   -0.0016276133\n",
       "2016-07-06 03:00:00    0.0010681058\n",
       "2016-07-06 04:00:00   -0.0014319809\n",
       "Name: Open, dtype: float64"
      ]
     },
     "execution_count": 45,
     "metadata": {},
     "output_type": "execute_result"
    }
   ],
   "source": [
    "a = np.diff(ts[\"Open\"].values) / ts[\"Open\"][:-1]\n",
    "a[:10]"
   ]
  },
  {
   "cell_type": "code",
   "execution_count": 46,
   "metadata": {
    "collapsed": false,
    "scrolled": false
   },
   "outputs": [
    {
     "data": {
      "image/png": "[encoded data removed]",
      "text/plain": [
       "<matplotlib.figure.Figure at 0x7fd55cd1cc50>"
      ]
     },
     "metadata": {},
     "output_type": "display_data"
    }
   ],
   "source": [
    "from tradeframework.api import TradeEngine\n",
    "ret = TradeEngine.getPeriodReturns(dInfo.returns) + 1\n",
    "#ret = ret.prod(axis=1)\n",
    "\n",
    "pnl = np.cumprod(ret.resample('B').agg({'Sandbox Engine': 'prod'}))\n",
    "\n",
    "plt.plot(pnl)\n",
    "plt.show() \n",
    "\n",
    "#np.exp(np.log(ret).resample('B').agg({'Sandbox Engine': 'sum'}))-1"
   ]
  },
  {
   "cell_type": "code",
   "execution_count": 25,
   "metadata": {
    "collapsed": false
   },
   "outputs": [
    {
     "data": {
      "image/png": "[encoded data removed]",
      "text/plain": [
       "<matplotlib.figure.Figure at 0x7fd55d678810>"
      ]
     },
     "metadata": {},
     "output_type": "display_data"
    }
   ],
   "source": [
    "a = np.diff(ts[\"Close\"].values) / ts[\"Close\"][:-1]\n",
    "a = a + 1\n",
    "pnl = np.cumprod(a.resample('B').agg({'Sandbox Engine': 'prod'}))\n",
    "plt.plot(pnl)\n",
    "plt.show() \n",
    "\n"
   ]
  },
  {
   "cell_type": "code",
   "execution_count": null,
   "metadata": {
    "collapsed": true
   },
   "outputs": [],
   "source": []
  }
 ],
 "metadata": {
  "kernelspec": {
   "display_name": "Python 2",
   "language": "python",
   "name": "python2"
  },
  "language_info": {
   "codemirror_mode": {
    "name": "ipython",
    "version": 2
   },
   "file_extension": ".py",
   "mimetype": "text/x-python",
   "name": "python",
   "nbconvert_exporter": "python",
   "pygments_lexer": "ipython2",
   "version": "2.7.12"
  }
 },
 "nbformat": 4,
 "nbformat_minor": 0
}
